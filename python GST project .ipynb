{
 "cells": [
  {
   "cell_type": "code",
   "execution_count": 15,
   "id": "4b4dbdcb",
   "metadata": {},
   "outputs": [],
   "source": [
    "import tkinter as tk\n",
    "from tkinter import messagebox\n",
    "\n",
    "def gst_calculator():\n",
    "    try:\n",
    "        amount = float(initial_amount.get())\n",
    "        gst_rate = float(initial_gst_rate.get())\n",
    "        \n",
    "        gst_amount = (amount * gst_rate) / 100\n",
    "        total_amount = amount + gst_amount\n",
    "        \n",
    "        gst_amount_label.config(text=f\"GST Amount ({gst_rate}%): {gst_amount:.2f}\") \n",
    "        total_amount_label.config(text=f\"Total Amount (including GST): {total_amount:.2f}\")\n",
    "        \n",
    "    except ValueError:\n",
    "        messagebox.showerror( \"Error\"'\\n',\"Please enter valid numeric number.\")\n",
    "\n",
    "\n",
    "window = tk.Tk()\n",
    "window.title(\"GST Calculator\")\n",
    "window.geometry(\"800x400\")\n",
    "\n",
    "amount_label = tk.Label(window, text=\"Enter the Product Amount:\",fg=\"blue\")\n",
    "amount_label.pack(pady=10) \n",
    "\n",
    "initial_amount = tk.Entry(window, width=15,fg=\"black\")\n",
    "initial_amount.pack()\n",
    "\n",
    "gst_rate_label = tk.Label(window, text=\"Enter the GST Rate (%) for the Product:\",fg=\"blue\")\n",
    "gst_rate_label.pack(pady=10)\n",
    "\n",
    "initial_gst_rate = tk.Entry(window, width=15,fg=\"black\")\n",
    "initial_gst_rate.pack()\n",
    "\n",
    "calculate_button = tk.Button(window, text=\"Calculate GST\",fg=\"red\", command=gst_calculator)\n",
    "calculate_button.pack(pady=20)\n",
    "\n",
    "gst_amount_label = tk.Label(window,fg=\"green\", text=\"\")\n",
    "gst_amount_label.pack()\n",
    "\n",
    "total_amount_label = tk.Label(window,fg=\"green\", text=\"\")\n",
    "total_amount_label.pack()\n",
    "window.mainloop()\n",
    "\n"
   ]
  },
  {
   "cell_type": "code",
   "execution_count": null,
   "id": "a758df39",
   "metadata": {},
   "outputs": [],
   "source": []
  }
 ],
 "metadata": {
  "kernelspec": {
   "display_name": "Python 3 (ipykernel)",
   "language": "python",
   "name": "python3"
  },
  "language_info": {
   "codemirror_mode": {
    "name": "ipython",
    "version": 3
   },
   "file_extension": ".py",
   "mimetype": "text/x-python",
   "name": "python",
   "nbconvert_exporter": "python",
   "pygments_lexer": "ipython3",
   "version": "3.11.7"
  },
  "widgets": {
   "application/vnd.jupyter.widget-state+json": {
    "state": {},
    "version_major": 2,
    "version_minor": 0
   }
  }
 },
 "nbformat": 4,
 "nbformat_minor": 5
}
