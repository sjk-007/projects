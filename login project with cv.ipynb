{
 "cells": [
  {
   "cell_type": "code",
   "execution_count": 2,
   "id": "32eb8915-48ae-48f3-8692-754670270a59",
   "metadata": {},
   "outputs": [],
   "source": [
    "import cv2\n",
    "import numpy as np\n",
    "import face_recognition \n",
    "import os\n",
    "from datetime import datetime"
   ]
  },
  {
   "cell_type": "code",
   "execution_count": 3,
   "id": "3a0ecf67-69ff-456c-b605-6c81378a8faa",
   "metadata": {},
   "outputs": [
    {
     "name": "stdout",
     "output_type": "stream",
     "text": [
      "['Arnold.jpg', 'Dhoni.jpg', 'Elon Musk.jpg', 'Jeff Bezoz.jpg', 'leonardo di carpio.jpg', 'Messi.jpg', 'Neymar.jpg', 'PV Sindhu.jpg', 'Rohit sharma.jpg', 'Ronaldo.jpg', 'Ryan Reynolds.jpg', 'Shah Rukh Khan.jpg', 'sjk khowsik.jpeg', 'Taylor Swift.jpg', 'Tom cruise.jpg', 'virat.jpg']\n",
      "['Arnold', 'Dhoni', 'Elon Musk', 'Jeff Bezoz', 'leonardo di carpio', 'Messi', 'Neymar', 'PV Sindhu', 'Rohit sharma', 'Ronaldo', 'Ryan Reynolds', 'Shah Rukh Khan', 'sjk khowsik', 'Taylor Swift', 'Tom cruise', 'virat']\n"
     ]
    }
   ],
   "source": [
    "path = r\"D:\\project\\login images\" \n",
    "images = []\n",
    "classnames = []\n",
    "list_names = os.listdir(path)\n",
    "print(list_names)\n",
    "for cls in list_names:\n",
    "    curimg = cv2.imread(f'{path}/{cls}') \n",
    "    images.append(curimg)\n",
    "    classnames.append(os.path.splitext(cls)[0]) \n",
    "print(classnames)\n",
    "\n",
    "\n",
    "def findencodings(images): \n",
    "    encodeimglist  = []\n",
    "    for img in images:\n",
    "      img=cv2.cvtColor(img,cv2.COLOR_BGR2RGB)   \n",
    "      encode = face_recognition.face_encodings(img)[0] \n",
    "      encodeimglist.append(encode)\n",
    "    return encodeimglist\n",
    "\n",
    "def login(name):\n",
    "    with open('emp_login.csv','r+') as f: \n",
    "        recordlist  = f.readlines()\n",
    "        namelist = []\n",
    "        for line in recordlist:\n",
    "            entry = line.split(',')      \n",
    "            namelist.append(entry[0])    \n",
    "        if name not in namelist: \n",
    "            now = datetime.now()\n",
    "            timestring = now.strftime('%H: %M: %S')\n",
    "            login_info = \"LOGIN SUCCESSFULL\"\n",
    "            f.writelines(f'\\n{name},{timestring},{login_info}')\n",
    "\n",
    "\n",
    "encodelistknown = findencodings(images) \n",
    "#print(\"encoding finish for images\")\n",
    "\n",
    "\n",
    "\n",
    "cap = cv2.VideoCapture(0) \n",
    "\n",
    "while True:\n",
    "    success, img = cap.read()\n",
    "    img_s = cv2.resize(img,(0,0),None,0.25,0.25) \n",
    "    img_s=cv2.cvtColor(img_s,cv2.COLOR_BGR2RGB)\n",
    "\n",
    "    facescam = face_recognition.face_locations(img_s) #\n",
    "\n",
    "# to find encoding of the web cam\n",
    "    encodecam = face_recognition.face_encodings(img_s,facescam)\n",
    "\n",
    "    for encodeface,faceloc in zip (encodecam,facescam): \n",
    "        matches = face_recognition.compare_faces(encodelistknown,encodeface)\n",
    "        facedist = face_recognition.face_distance(encodelistknown,encodeface)   \n",
    "       # print(facedist)\n",
    "        matchindex = np.argmin(facedist) \n",
    "\n",
    "\n",
    "        if matches[matchindex]:\n",
    "            name = classnames[matchindex].upper() \n",
    "            #print(name)\n",
    "            y1,x2,y2,x1 = faceloc\n",
    "            y1,x2,y2,x1 = y1*4,x2*4,y2*4,x1*4 \n",
    "\n",
    "            cv2.rectangle(img,(x1,y1),(x2,y2),(0,255,0),2) \n",
    "            cv2.rectangle(img,(x1,y2-30),(x2,y2),(255,0,0),cv2.FILLED) \n",
    "            cv2.putText(img,name,(x1+6,y2-6),cv2.FONT_HERSHEY_COMPLEX_SMALL,1,(255,255,255),1)\n",
    "            login(name) \n",
    "\n",
    "\n",
    "\n",
    "\n",
    "\n",
    "\n",
    "    cv2.imshow(\"camera image\",img)\n",
    "    if cv2.waitKey(1) & 0xFF == ord('-'): \n",
    "        break\n",
    "cap.release()\n",
    "cv2.destroyAllWindows()\n",
    "\n",
    "\n",
    "\n",
    "\n",
    "\n"
   ]
  },
  {
   "cell_type": "code",
   "execution_count": null,
   "id": "6270c896-5954-418a-93f1-0ab3f90096cf",
   "metadata": {},
   "outputs": [],
   "source": []
  }
 ],
 "metadata": {
  "kernelspec": {
   "display_name": "Python 3 (ipykernel)",
   "language": "python",
   "name": "python3"
  },
  "language_info": {
   "codemirror_mode": {
    "name": "ipython",
    "version": 3
   },
   "file_extension": ".py",
   "mimetype": "text/x-python",
   "name": "python",
   "nbconvert_exporter": "python",
   "pygments_lexer": "ipython3",
   "version": "3.12.7"
  },
  "widgets": {
   "application/vnd.jupyter.widget-state+json": {
    "state": {},
    "version_major": 2,
    "version_minor": 0
   }
  }
 },
 "nbformat": 4,
 "nbformat_minor": 5
}
